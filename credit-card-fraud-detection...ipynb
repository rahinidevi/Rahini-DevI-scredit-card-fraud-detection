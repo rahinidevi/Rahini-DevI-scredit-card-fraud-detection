{
 "cells": [
  {
   "cell_type": "markdown",
   "id": "30675452",
   "metadata": {},
   "source": [
    "## Basic Pakages"
   ]
  },
  {
   "cell_type": "code",
   "execution_count": 1,
   "id": "355652c6",
   "metadata": {
    "_cell_guid": "b1076dfc-b9ad-4769-8c92-a6c4dae69d19",
    "_uuid": "8f2839f25d086af736a60e9eeb907d3b93b6e0e5",
    "execution": {
     "iopub.execute_input": "2022-05-20T08:12:11.125754Z",
     "iopub.status.busy": "2022-05-20T08:12:11.125172Z",
     "iopub.status.idle": "2022-05-20T08:12:12.246662Z",
     "shell.execute_reply": "2022-05-20T08:12:12.245780Z"
    },
    "papermill": {
     "duration": 1.161704,
     "end_time": "2022-05-20T08:12:12.249428",
     "exception": false,
     "start_time": "2022-05-20T08:12:11.087724",
     "status": "completed"
    },
    "tags": []
   },
   "outputs": [],
   "source": [
    "import numpy as np \n",
    "import pandas as pd"
   ]
  },
  {
   "cell_type": "markdown",
   "id": "a275039f",
   "metadata": {},
   "source": [
    "## Import Dataset"
   ]
  },
  {
   "cell_type": "code",
   "execution_count": 2,
   "id": "a16984b5",
   "metadata": {
    "execution": {
     "iopub.execute_input": "2022-05-20T08:12:12.391829Z",
     "iopub.status.busy": "2022-05-20T08:12:12.390992Z",
     "iopub.status.idle": "2022-05-20T08:12:28.900240Z",
     "shell.execute_reply": "2022-05-20T08:12:28.899188Z"
    },
    "papermill": {
     "duration": 16.54843,
     "end_time": "2022-05-20T08:12:28.902638",
     "exception": false,
     "start_time": "2022-05-20T08:12:12.354208",
     "status": "completed"
    },
    "tags": []
   },
   "outputs": [],
   "source": [
    "fraudTrain = pd.read_csv(\"fraudTrain.csv\")\n",
    "fraudTest = pd.read_csv(\"fraudTest.csv\")"
   ]
  },
  {
   "cell_type": "markdown",
   "id": "3c17f5c3",
   "metadata": {},
   "source": [
    "## DataSet Properties"
   ]
  },
  {
   "cell_type": "code",
   "execution_count": 3,
   "id": "1df47d7c",
   "metadata": {
    "execution": {
     "iopub.execute_input": "2022-05-20T08:12:29.045427Z",
     "iopub.status.busy": "2022-05-20T08:12:29.045063Z",
     "iopub.status.idle": "2022-05-20T08:12:29.085037Z",
     "shell.execute_reply": "2022-05-20T08:12:29.084218Z"
    },
    "papermill": {
     "duration": 0.079004,
     "end_time": "2022-05-20T08:12:29.088032",
     "exception": false,
     "start_time": "2022-05-20T08:12:29.009028",
     "status": "completed"
    },
    "scrolled": true,
    "tags": []
   },
   "outputs": [
    {
     "data": {
      "text/html": [
       "<div>\n",
       "<style scoped>\n",
       "    .dataframe tbody tr th:only-of-type {\n",
       "        vertical-align: middle;\n",
       "    }\n",
       "\n",
       "    .dataframe tbody tr th {\n",
       "        vertical-align: top;\n",
       "    }\n",
       "\n",
       "    .dataframe thead th {\n",
       "        text-align: right;\n",
       "    }\n",
       "</style>\n",
       "<table border=\"1\" class=\"dataframe\">\n",
       "  <thead>\n",
       "    <tr style=\"text-align: right;\">\n",
       "      <th></th>\n",
       "      <th>Unnamed: 0</th>\n",
       "      <th>trans_date_trans_time</th>\n",
       "      <th>cc_num</th>\n",
       "      <th>merchant</th>\n",
       "      <th>category</th>\n",
       "      <th>amt</th>\n",
       "      <th>first</th>\n",
       "      <th>last</th>\n",
       "      <th>gender</th>\n",
       "      <th>street</th>\n",
       "      <th>...</th>\n",
       "      <th>lat</th>\n",
       "      <th>long</th>\n",
       "      <th>city_pop</th>\n",
       "      <th>job</th>\n",
       "      <th>dob</th>\n",
       "      <th>trans_num</th>\n",
       "      <th>unix_time</th>\n",
       "      <th>merch_lat</th>\n",
       "      <th>merch_long</th>\n",
       "      <th>is_fraud</th>\n",
       "    </tr>\n",
       "  </thead>\n",
       "  <tbody>\n",
       "    <tr>\n",
       "      <th>0</th>\n",
       "      <td>0</td>\n",
       "      <td>2019-01-01 00:00:18</td>\n",
       "      <td>2703186189652095</td>\n",
       "      <td>fraud_Rippin, Kub and Mann</td>\n",
       "      <td>misc_net</td>\n",
       "      <td>4.97</td>\n",
       "      <td>Jennifer</td>\n",
       "      <td>Banks</td>\n",
       "      <td>F</td>\n",
       "      <td>561 Perry Cove</td>\n",
       "      <td>...</td>\n",
       "      <td>36.0788</td>\n",
       "      <td>-81.1781</td>\n",
       "      <td>3495</td>\n",
       "      <td>Psychologist, counselling</td>\n",
       "      <td>1988-03-09</td>\n",
       "      <td>0b242abb623afc578575680df30655b9</td>\n",
       "      <td>1325376018</td>\n",
       "      <td>36.011293</td>\n",
       "      <td>-82.048315</td>\n",
       "      <td>0</td>\n",
       "    </tr>\n",
       "    <tr>\n",
       "      <th>1</th>\n",
       "      <td>1</td>\n",
       "      <td>2019-01-01 00:00:44</td>\n",
       "      <td>630423337322</td>\n",
       "      <td>fraud_Heller, Gutmann and Zieme</td>\n",
       "      <td>grocery_pos</td>\n",
       "      <td>107.23</td>\n",
       "      <td>Stephanie</td>\n",
       "      <td>Gill</td>\n",
       "      <td>F</td>\n",
       "      <td>43039 Riley Greens Suite 393</td>\n",
       "      <td>...</td>\n",
       "      <td>48.8878</td>\n",
       "      <td>-118.2105</td>\n",
       "      <td>149</td>\n",
       "      <td>Special educational needs teacher</td>\n",
       "      <td>1978-06-21</td>\n",
       "      <td>1f76529f8574734946361c461b024d99</td>\n",
       "      <td>1325376044</td>\n",
       "      <td>49.159047</td>\n",
       "      <td>-118.186462</td>\n",
       "      <td>0</td>\n",
       "    </tr>\n",
       "    <tr>\n",
       "      <th>2</th>\n",
       "      <td>2</td>\n",
       "      <td>2019-01-01 00:00:51</td>\n",
       "      <td>38859492057661</td>\n",
       "      <td>fraud_Lind-Buckridge</td>\n",
       "      <td>entertainment</td>\n",
       "      <td>220.11</td>\n",
       "      <td>Edward</td>\n",
       "      <td>Sanchez</td>\n",
       "      <td>M</td>\n",
       "      <td>594 White Dale Suite 530</td>\n",
       "      <td>...</td>\n",
       "      <td>42.1808</td>\n",
       "      <td>-112.2620</td>\n",
       "      <td>4154</td>\n",
       "      <td>Nature conservation officer</td>\n",
       "      <td>1962-01-19</td>\n",
       "      <td>a1a22d70485983eac12b5b88dad1cf95</td>\n",
       "      <td>1325376051</td>\n",
       "      <td>43.150704</td>\n",
       "      <td>-112.154481</td>\n",
       "      <td>0</td>\n",
       "    </tr>\n",
       "    <tr>\n",
       "      <th>3</th>\n",
       "      <td>3</td>\n",
       "      <td>2019-01-01 00:01:16</td>\n",
       "      <td>3534093764340240</td>\n",
       "      <td>fraud_Kutch, Hermiston and Farrell</td>\n",
       "      <td>gas_transport</td>\n",
       "      <td>45.00</td>\n",
       "      <td>Jeremy</td>\n",
       "      <td>White</td>\n",
       "      <td>M</td>\n",
       "      <td>9443 Cynthia Court Apt. 038</td>\n",
       "      <td>...</td>\n",
       "      <td>46.2306</td>\n",
       "      <td>-112.1138</td>\n",
       "      <td>1939</td>\n",
       "      <td>Patent attorney</td>\n",
       "      <td>1967-01-12</td>\n",
       "      <td>6b849c168bdad6f867558c3793159a81</td>\n",
       "      <td>1325376076</td>\n",
       "      <td>47.034331</td>\n",
       "      <td>-112.561071</td>\n",
       "      <td>0</td>\n",
       "    </tr>\n",
       "    <tr>\n",
       "      <th>4</th>\n",
       "      <td>4</td>\n",
       "      <td>2019-01-01 00:03:06</td>\n",
       "      <td>375534208663984</td>\n",
       "      <td>fraud_Keeling-Crist</td>\n",
       "      <td>misc_pos</td>\n",
       "      <td>41.96</td>\n",
       "      <td>Tyler</td>\n",
       "      <td>Garcia</td>\n",
       "      <td>M</td>\n",
       "      <td>408 Bradley Rest</td>\n",
       "      <td>...</td>\n",
       "      <td>38.4207</td>\n",
       "      <td>-79.4629</td>\n",
       "      <td>99</td>\n",
       "      <td>Dance movement psychotherapist</td>\n",
       "      <td>1986-03-28</td>\n",
       "      <td>a41d7549acf90789359a9aa5346dcb46</td>\n",
       "      <td>1325376186</td>\n",
       "      <td>38.674999</td>\n",
       "      <td>-78.632459</td>\n",
       "      <td>0</td>\n",
       "    </tr>\n",
       "  </tbody>\n",
       "</table>\n",
       "<p>5 rows × 23 columns</p>\n",
       "</div>"
      ],
      "text/plain": [
       "   Unnamed: 0 trans_date_trans_time            cc_num  \\\n",
       "0           0   2019-01-01 00:00:18  2703186189652095   \n",
       "1           1   2019-01-01 00:00:44      630423337322   \n",
       "2           2   2019-01-01 00:00:51    38859492057661   \n",
       "3           3   2019-01-01 00:01:16  3534093764340240   \n",
       "4           4   2019-01-01 00:03:06   375534208663984   \n",
       "\n",
       "                             merchant       category     amt      first  \\\n",
       "0          fraud_Rippin, Kub and Mann       misc_net    4.97   Jennifer   \n",
       "1     fraud_Heller, Gutmann and Zieme    grocery_pos  107.23  Stephanie   \n",
       "2                fraud_Lind-Buckridge  entertainment  220.11     Edward   \n",
       "3  fraud_Kutch, Hermiston and Farrell  gas_transport   45.00     Jeremy   \n",
       "4                 fraud_Keeling-Crist       misc_pos   41.96      Tyler   \n",
       "\n",
       "      last gender                        street  ...      lat      long  \\\n",
       "0    Banks      F                561 Perry Cove  ...  36.0788  -81.1781   \n",
       "1     Gill      F  43039 Riley Greens Suite 393  ...  48.8878 -118.2105   \n",
       "2  Sanchez      M      594 White Dale Suite 530  ...  42.1808 -112.2620   \n",
       "3    White      M   9443 Cynthia Court Apt. 038  ...  46.2306 -112.1138   \n",
       "4   Garcia      M              408 Bradley Rest  ...  38.4207  -79.4629   \n",
       "\n",
       "   city_pop                                job         dob  \\\n",
       "0      3495          Psychologist, counselling  1988-03-09   \n",
       "1       149  Special educational needs teacher  1978-06-21   \n",
       "2      4154        Nature conservation officer  1962-01-19   \n",
       "3      1939                    Patent attorney  1967-01-12   \n",
       "4        99     Dance movement psychotherapist  1986-03-28   \n",
       "\n",
       "                          trans_num   unix_time  merch_lat  merch_long  \\\n",
       "0  0b242abb623afc578575680df30655b9  1325376018  36.011293  -82.048315   \n",
       "1  1f76529f8574734946361c461b024d99  1325376044  49.159047 -118.186462   \n",
       "2  a1a22d70485983eac12b5b88dad1cf95  1325376051  43.150704 -112.154481   \n",
       "3  6b849c168bdad6f867558c3793159a81  1325376076  47.034331 -112.561071   \n",
       "4  a41d7549acf90789359a9aa5346dcb46  1325376186  38.674999  -78.632459   \n",
       "\n",
       "   is_fraud  \n",
       "0         0  \n",
       "1         0  \n",
       "2         0  \n",
       "3         0  \n",
       "4         0  \n",
       "\n",
       "[5 rows x 23 columns]"
      ]
     },
     "execution_count": 3,
     "metadata": {},
     "output_type": "execute_result"
    }
   ],
   "source": [
    "fraudTrain.head()"
   ]
  },
  {
   "cell_type": "code",
   "execution_count": 68,
   "id": "4f0d810a",
   "metadata": {},
   "outputs": [
    {
     "data": {
      "text/html": [
       "<div>\n",
       "<style scoped>\n",
       "    .dataframe tbody tr th:only-of-type {\n",
       "        vertical-align: middle;\n",
       "    }\n",
       "\n",
       "    .dataframe tbody tr th {\n",
       "        vertical-align: top;\n",
       "    }\n",
       "\n",
       "    .dataframe thead th {\n",
       "        text-align: right;\n",
       "    }\n",
       "</style>\n",
       "<table border=\"1\" class=\"dataframe\">\n",
       "  <thead>\n",
       "    <tr style=\"text-align: right;\">\n",
       "      <th></th>\n",
       "      <th>amt</th>\n",
       "      <th>zip</th>\n",
       "      <th>lat</th>\n",
       "      <th>long</th>\n",
       "      <th>city_pop</th>\n",
       "      <th>unix_time</th>\n",
       "      <th>merch_lat</th>\n",
       "      <th>merch_long</th>\n",
       "      <th>is_fraud</th>\n",
       "      <th>year</th>\n",
       "      <th>...</th>\n",
       "      <th>category_grocery_pos</th>\n",
       "      <th>category_health_fitness</th>\n",
       "      <th>category_home</th>\n",
       "      <th>category_kids_pets</th>\n",
       "      <th>category_misc_net</th>\n",
       "      <th>category_misc_pos</th>\n",
       "      <th>category_personal_care</th>\n",
       "      <th>category_shopping_net</th>\n",
       "      <th>category_shopping_pos</th>\n",
       "      <th>category_travel</th>\n",
       "    </tr>\n",
       "  </thead>\n",
       "  <tbody>\n",
       "    <tr>\n",
       "      <th>count</th>\n",
       "      <td>1.296675e+06</td>\n",
       "      <td>1.296675e+06</td>\n",
       "      <td>1.296675e+06</td>\n",
       "      <td>1.296675e+06</td>\n",
       "      <td>1.296675e+06</td>\n",
       "      <td>1.296675e+06</td>\n",
       "      <td>1.296675e+06</td>\n",
       "      <td>1.296675e+06</td>\n",
       "      <td>1.296675e+06</td>\n",
       "      <td>1.296675e+06</td>\n",
       "      <td>...</td>\n",
       "      <td>1.296675e+06</td>\n",
       "      <td>1.296675e+06</td>\n",
       "      <td>1.296675e+06</td>\n",
       "      <td>1.296675e+06</td>\n",
       "      <td>1.296675e+06</td>\n",
       "      <td>1.296675e+06</td>\n",
       "      <td>1.296675e+06</td>\n",
       "      <td>1.296675e+06</td>\n",
       "      <td>1.296675e+06</td>\n",
       "      <td>1.296675e+06</td>\n",
       "    </tr>\n",
       "    <tr>\n",
       "      <th>mean</th>\n",
       "      <td>7.035104e+01</td>\n",
       "      <td>4.880067e+04</td>\n",
       "      <td>3.853762e+01</td>\n",
       "      <td>-9.022634e+01</td>\n",
       "      <td>8.882444e+04</td>\n",
       "      <td>1.349244e+09</td>\n",
       "      <td>3.853734e+01</td>\n",
       "      <td>-9.022646e+01</td>\n",
       "      <td>5.788652e-03</td>\n",
       "      <td>2.019287e+03</td>\n",
       "      <td>...</td>\n",
       "      <td>9.535003e-02</td>\n",
       "      <td>6.623017e-02</td>\n",
       "      <td>9.494669e-02</td>\n",
       "      <td>8.717296e-02</td>\n",
       "      <td>4.880714e-02</td>\n",
       "      <td>6.143020e-02</td>\n",
       "      <td>6.999287e-02</td>\n",
       "      <td>7.522548e-02</td>\n",
       "      <td>8.997783e-02</td>\n",
       "      <td>3.123913e-02</td>\n",
       "    </tr>\n",
       "    <tr>\n",
       "      <th>std</th>\n",
       "      <td>1.603160e+02</td>\n",
       "      <td>2.689322e+04</td>\n",
       "      <td>5.075808e+00</td>\n",
       "      <td>1.375908e+01</td>\n",
       "      <td>3.019564e+05</td>\n",
       "      <td>1.284128e+07</td>\n",
       "      <td>5.109788e+00</td>\n",
       "      <td>1.377109e+01</td>\n",
       "      <td>7.586269e-02</td>\n",
       "      <td>4.522452e-01</td>\n",
       "      <td>...</td>\n",
       "      <td>2.936979e-01</td>\n",
       "      <td>2.486841e-01</td>\n",
       "      <td>2.931414e-01</td>\n",
       "      <td>2.820885e-01</td>\n",
       "      <td>2.154647e-01</td>\n",
       "      <td>2.401178e-01</td>\n",
       "      <td>2.551351e-01</td>\n",
       "      <td>2.637549e-01</td>\n",
       "      <td>2.861501e-01</td>\n",
       "      <td>1.739634e-01</td>\n",
       "    </tr>\n",
       "    <tr>\n",
       "      <th>min</th>\n",
       "      <td>1.000000e+00</td>\n",
       "      <td>1.257000e+03</td>\n",
       "      <td>2.002710e+01</td>\n",
       "      <td>-1.656723e+02</td>\n",
       "      <td>2.300000e+01</td>\n",
       "      <td>1.325376e+09</td>\n",
       "      <td>1.902779e+01</td>\n",
       "      <td>-1.666712e+02</td>\n",
       "      <td>0.000000e+00</td>\n",
       "      <td>2.019000e+03</td>\n",
       "      <td>...</td>\n",
       "      <td>0.000000e+00</td>\n",
       "      <td>0.000000e+00</td>\n",
       "      <td>0.000000e+00</td>\n",
       "      <td>0.000000e+00</td>\n",
       "      <td>0.000000e+00</td>\n",
       "      <td>0.000000e+00</td>\n",
       "      <td>0.000000e+00</td>\n",
       "      <td>0.000000e+00</td>\n",
       "      <td>0.000000e+00</td>\n",
       "      <td>0.000000e+00</td>\n",
       "    </tr>\n",
       "    <tr>\n",
       "      <th>25%</th>\n",
       "      <td>9.650000e+00</td>\n",
       "      <td>2.623700e+04</td>\n",
       "      <td>3.462050e+01</td>\n",
       "      <td>-9.679800e+01</td>\n",
       "      <td>7.430000e+02</td>\n",
       "      <td>1.338751e+09</td>\n",
       "      <td>3.473357e+01</td>\n",
       "      <td>-9.689728e+01</td>\n",
       "      <td>0.000000e+00</td>\n",
       "      <td>2.019000e+03</td>\n",
       "      <td>...</td>\n",
       "      <td>0.000000e+00</td>\n",
       "      <td>0.000000e+00</td>\n",
       "      <td>0.000000e+00</td>\n",
       "      <td>0.000000e+00</td>\n",
       "      <td>0.000000e+00</td>\n",
       "      <td>0.000000e+00</td>\n",
       "      <td>0.000000e+00</td>\n",
       "      <td>0.000000e+00</td>\n",
       "      <td>0.000000e+00</td>\n",
       "      <td>0.000000e+00</td>\n",
       "    </tr>\n",
       "    <tr>\n",
       "      <th>50%</th>\n",
       "      <td>4.752000e+01</td>\n",
       "      <td>4.817400e+04</td>\n",
       "      <td>3.935430e+01</td>\n",
       "      <td>-8.747690e+01</td>\n",
       "      <td>2.456000e+03</td>\n",
       "      <td>1.349250e+09</td>\n",
       "      <td>3.936568e+01</td>\n",
       "      <td>-8.743839e+01</td>\n",
       "      <td>0.000000e+00</td>\n",
       "      <td>2.019000e+03</td>\n",
       "      <td>...</td>\n",
       "      <td>0.000000e+00</td>\n",
       "      <td>0.000000e+00</td>\n",
       "      <td>0.000000e+00</td>\n",
       "      <td>0.000000e+00</td>\n",
       "      <td>0.000000e+00</td>\n",
       "      <td>0.000000e+00</td>\n",
       "      <td>0.000000e+00</td>\n",
       "      <td>0.000000e+00</td>\n",
       "      <td>0.000000e+00</td>\n",
       "      <td>0.000000e+00</td>\n",
       "    </tr>\n",
       "    <tr>\n",
       "      <th>75%</th>\n",
       "      <td>8.314000e+01</td>\n",
       "      <td>7.204200e+04</td>\n",
       "      <td>4.194040e+01</td>\n",
       "      <td>-8.015800e+01</td>\n",
       "      <td>2.032800e+04</td>\n",
       "      <td>1.359385e+09</td>\n",
       "      <td>4.195716e+01</td>\n",
       "      <td>-8.023680e+01</td>\n",
       "      <td>0.000000e+00</td>\n",
       "      <td>2.020000e+03</td>\n",
       "      <td>...</td>\n",
       "      <td>0.000000e+00</td>\n",
       "      <td>0.000000e+00</td>\n",
       "      <td>0.000000e+00</td>\n",
       "      <td>0.000000e+00</td>\n",
       "      <td>0.000000e+00</td>\n",
       "      <td>0.000000e+00</td>\n",
       "      <td>0.000000e+00</td>\n",
       "      <td>0.000000e+00</td>\n",
       "      <td>0.000000e+00</td>\n",
       "      <td>0.000000e+00</td>\n",
       "    </tr>\n",
       "    <tr>\n",
       "      <th>max</th>\n",
       "      <td>2.894890e+04</td>\n",
       "      <td>9.978300e+04</td>\n",
       "      <td>6.669330e+01</td>\n",
       "      <td>-6.795030e+01</td>\n",
       "      <td>2.906700e+06</td>\n",
       "      <td>1.371817e+09</td>\n",
       "      <td>6.751027e+01</td>\n",
       "      <td>-6.695090e+01</td>\n",
       "      <td>1.000000e+00</td>\n",
       "      <td>2.020000e+03</td>\n",
       "      <td>...</td>\n",
       "      <td>1.000000e+00</td>\n",
       "      <td>1.000000e+00</td>\n",
       "      <td>1.000000e+00</td>\n",
       "      <td>1.000000e+00</td>\n",
       "      <td>1.000000e+00</td>\n",
       "      <td>1.000000e+00</td>\n",
       "      <td>1.000000e+00</td>\n",
       "      <td>1.000000e+00</td>\n",
       "      <td>1.000000e+00</td>\n",
       "      <td>1.000000e+00</td>\n",
       "    </tr>\n",
       "  </tbody>\n",
       "</table>\n",
       "<p>8 rows × 25 columns</p>\n",
       "</div>"
      ],
      "text/plain": [
       "                amt           zip           lat          long      city_pop  \\\n",
       "count  1.296675e+06  1.296675e+06  1.296675e+06  1.296675e+06  1.296675e+06   \n",
       "mean   7.035104e+01  4.880067e+04  3.853762e+01 -9.022634e+01  8.882444e+04   \n",
       "std    1.603160e+02  2.689322e+04  5.075808e+00  1.375908e+01  3.019564e+05   \n",
       "min    1.000000e+00  1.257000e+03  2.002710e+01 -1.656723e+02  2.300000e+01   \n",
       "25%    9.650000e+00  2.623700e+04  3.462050e+01 -9.679800e+01  7.430000e+02   \n",
       "50%    4.752000e+01  4.817400e+04  3.935430e+01 -8.747690e+01  2.456000e+03   \n",
       "75%    8.314000e+01  7.204200e+04  4.194040e+01 -8.015800e+01  2.032800e+04   \n",
       "max    2.894890e+04  9.978300e+04  6.669330e+01 -6.795030e+01  2.906700e+06   \n",
       "\n",
       "          unix_time     merch_lat    merch_long      is_fraud          year  \\\n",
       "count  1.296675e+06  1.296675e+06  1.296675e+06  1.296675e+06  1.296675e+06   \n",
       "mean   1.349244e+09  3.853734e+01 -9.022646e+01  5.788652e-03  2.019287e+03   \n",
       "std    1.284128e+07  5.109788e+00  1.377109e+01  7.586269e-02  4.522452e-01   \n",
       "min    1.325376e+09  1.902779e+01 -1.666712e+02  0.000000e+00  2.019000e+03   \n",
       "25%    1.338751e+09  3.473357e+01 -9.689728e+01  0.000000e+00  2.019000e+03   \n",
       "50%    1.349250e+09  3.936568e+01 -8.743839e+01  0.000000e+00  2.019000e+03   \n",
       "75%    1.359385e+09  4.195716e+01 -8.023680e+01  0.000000e+00  2.020000e+03   \n",
       "max    1.371817e+09  6.751027e+01 -6.695090e+01  1.000000e+00  2.020000e+03   \n",
       "\n",
       "       ...  category_grocery_pos  category_health_fitness  category_home  \\\n",
       "count  ...          1.296675e+06             1.296675e+06   1.296675e+06   \n",
       "mean   ...          9.535003e-02             6.623017e-02   9.494669e-02   \n",
       "std    ...          2.936979e-01             2.486841e-01   2.931414e-01   \n",
       "min    ...          0.000000e+00             0.000000e+00   0.000000e+00   \n",
       "25%    ...          0.000000e+00             0.000000e+00   0.000000e+00   \n",
       "50%    ...          0.000000e+00             0.000000e+00   0.000000e+00   \n",
       "75%    ...          0.000000e+00             0.000000e+00   0.000000e+00   \n",
       "max    ...          1.000000e+00             1.000000e+00   1.000000e+00   \n",
       "\n",
       "       category_kids_pets  category_misc_net  category_misc_pos  \\\n",
       "count        1.296675e+06       1.296675e+06       1.296675e+06   \n",
       "mean         8.717296e-02       4.880714e-02       6.143020e-02   \n",
       "std          2.820885e-01       2.154647e-01       2.401178e-01   \n",
       "min          0.000000e+00       0.000000e+00       0.000000e+00   \n",
       "25%          0.000000e+00       0.000000e+00       0.000000e+00   \n",
       "50%          0.000000e+00       0.000000e+00       0.000000e+00   \n",
       "75%          0.000000e+00       0.000000e+00       0.000000e+00   \n",
       "max          1.000000e+00       1.000000e+00       1.000000e+00   \n",
       "\n",
       "       category_personal_care  category_shopping_net  category_shopping_pos  \\\n",
       "count            1.296675e+06           1.296675e+06           1.296675e+06   \n",
       "mean             6.999287e-02           7.522548e-02           8.997783e-02   \n",
       "std              2.551351e-01           2.637549e-01           2.861501e-01   \n",
       "min              0.000000e+00           0.000000e+00           0.000000e+00   \n",
       "25%              0.000000e+00           0.000000e+00           0.000000e+00   \n",
       "50%              0.000000e+00           0.000000e+00           0.000000e+00   \n",
       "75%              0.000000e+00           0.000000e+00           0.000000e+00   \n",
       "max              1.000000e+00           1.000000e+00           1.000000e+00   \n",
       "\n",
       "       category_travel  \n",
       "count     1.296675e+06  \n",
       "mean      3.123913e-02  \n",
       "std       1.739634e-01  \n",
       "min       0.000000e+00  \n",
       "25%       0.000000e+00  \n",
       "50%       0.000000e+00  \n",
       "75%       0.000000e+00  \n",
       "max       1.000000e+00  \n",
       "\n",
       "[8 rows x 25 columns]"
      ]
     },
     "execution_count": 68,
     "metadata": {},
     "output_type": "execute_result"
    }
   ],
   "source": [
    "fraudTrain.describe()"
   ]
  },
  {
   "cell_type": "code",
   "execution_count": 69,
   "id": "6619948b",
   "metadata": {},
   "outputs": [
    {
     "data": {
      "text/plain": [
       "(1296675, 34)"
      ]
     },
     "execution_count": 69,
     "metadata": {},
     "output_type": "execute_result"
    }
   ],
   "source": [
    "fraudTrain.shape"
   ]
  },
  {
   "cell_type": "code",
   "execution_count": 71,
   "id": "b178f6fa",
   "metadata": {},
   "outputs": [
    {
     "name": "stdout",
     "output_type": "stream",
     "text": [
      "No of Fraud 7506\n"
     ]
    }
   ],
   "source": [
    "print(\"No of Fraud\",len(fraudTrain[fraudTrain['is_fraud']==1]))"
   ]
  },
  {
   "cell_type": "code",
   "execution_count": 4,
   "id": "693dcff6",
   "metadata": {
    "execution": {
     "iopub.execute_input": "2022-05-20T08:12:29.229391Z",
     "iopub.status.busy": "2022-05-20T08:12:29.228406Z",
     "iopub.status.idle": "2022-05-20T08:12:29.254656Z",
     "shell.execute_reply": "2022-05-20T08:12:29.253808Z"
    },
    "papermill": {
     "duration": 0.064592,
     "end_time": "2022-05-20T08:12:29.257012",
     "exception": false,
     "start_time": "2022-05-20T08:12:29.192420",
     "status": "completed"
    },
    "scrolled": true,
    "tags": []
   },
   "outputs": [
    {
     "data": {
      "text/html": [
       "<div>\n",
       "<style scoped>\n",
       "    .dataframe tbody tr th:only-of-type {\n",
       "        vertical-align: middle;\n",
       "    }\n",
       "\n",
       "    .dataframe tbody tr th {\n",
       "        vertical-align: top;\n",
       "    }\n",
       "\n",
       "    .dataframe thead th {\n",
       "        text-align: right;\n",
       "    }\n",
       "</style>\n",
       "<table border=\"1\" class=\"dataframe\">\n",
       "  <thead>\n",
       "    <tr style=\"text-align: right;\">\n",
       "      <th></th>\n",
       "      <th>Unnamed: 0</th>\n",
       "      <th>trans_date_trans_time</th>\n",
       "      <th>cc_num</th>\n",
       "      <th>merchant</th>\n",
       "      <th>category</th>\n",
       "      <th>amt</th>\n",
       "      <th>first</th>\n",
       "      <th>last</th>\n",
       "      <th>gender</th>\n",
       "      <th>street</th>\n",
       "      <th>...</th>\n",
       "      <th>lat</th>\n",
       "      <th>long</th>\n",
       "      <th>city_pop</th>\n",
       "      <th>job</th>\n",
       "      <th>dob</th>\n",
       "      <th>trans_num</th>\n",
       "      <th>unix_time</th>\n",
       "      <th>merch_lat</th>\n",
       "      <th>merch_long</th>\n",
       "      <th>is_fraud</th>\n",
       "    </tr>\n",
       "  </thead>\n",
       "  <tbody>\n",
       "    <tr>\n",
       "      <th>0</th>\n",
       "      <td>0</td>\n",
       "      <td>2020-06-21 12:14:25</td>\n",
       "      <td>2291163933867244</td>\n",
       "      <td>fraud_Kirlin and Sons</td>\n",
       "      <td>personal_care</td>\n",
       "      <td>2.86</td>\n",
       "      <td>Jeff</td>\n",
       "      <td>Elliott</td>\n",
       "      <td>M</td>\n",
       "      <td>351 Darlene Green</td>\n",
       "      <td>...</td>\n",
       "      <td>33.9659</td>\n",
       "      <td>-80.9355</td>\n",
       "      <td>333497</td>\n",
       "      <td>Mechanical engineer</td>\n",
       "      <td>1968-03-19</td>\n",
       "      <td>2da90c7d74bd46a0caf3777415b3ebd3</td>\n",
       "      <td>1371816865</td>\n",
       "      <td>33.986391</td>\n",
       "      <td>-81.200714</td>\n",
       "      <td>0</td>\n",
       "    </tr>\n",
       "    <tr>\n",
       "      <th>1</th>\n",
       "      <td>1</td>\n",
       "      <td>2020-06-21 12:14:33</td>\n",
       "      <td>3573030041201292</td>\n",
       "      <td>fraud_Sporer-Keebler</td>\n",
       "      <td>personal_care</td>\n",
       "      <td>29.84</td>\n",
       "      <td>Joanne</td>\n",
       "      <td>Williams</td>\n",
       "      <td>F</td>\n",
       "      <td>3638 Marsh Union</td>\n",
       "      <td>...</td>\n",
       "      <td>40.3207</td>\n",
       "      <td>-110.4360</td>\n",
       "      <td>302</td>\n",
       "      <td>Sales professional, IT</td>\n",
       "      <td>1990-01-17</td>\n",
       "      <td>324cc204407e99f51b0d6ca0055005e7</td>\n",
       "      <td>1371816873</td>\n",
       "      <td>39.450498</td>\n",
       "      <td>-109.960431</td>\n",
       "      <td>0</td>\n",
       "    </tr>\n",
       "    <tr>\n",
       "      <th>2</th>\n",
       "      <td>2</td>\n",
       "      <td>2020-06-21 12:14:53</td>\n",
       "      <td>3598215285024754</td>\n",
       "      <td>fraud_Swaniawski, Nitzsche and Welch</td>\n",
       "      <td>health_fitness</td>\n",
       "      <td>41.28</td>\n",
       "      <td>Ashley</td>\n",
       "      <td>Lopez</td>\n",
       "      <td>F</td>\n",
       "      <td>9333 Valentine Point</td>\n",
       "      <td>...</td>\n",
       "      <td>40.6729</td>\n",
       "      <td>-73.5365</td>\n",
       "      <td>34496</td>\n",
       "      <td>Librarian, public</td>\n",
       "      <td>1970-10-21</td>\n",
       "      <td>c81755dbbbea9d5c77f094348a7579be</td>\n",
       "      <td>1371816893</td>\n",
       "      <td>40.495810</td>\n",
       "      <td>-74.196111</td>\n",
       "      <td>0</td>\n",
       "    </tr>\n",
       "    <tr>\n",
       "      <th>3</th>\n",
       "      <td>3</td>\n",
       "      <td>2020-06-21 12:15:15</td>\n",
       "      <td>3591919803438423</td>\n",
       "      <td>fraud_Haley Group</td>\n",
       "      <td>misc_pos</td>\n",
       "      <td>60.05</td>\n",
       "      <td>Brian</td>\n",
       "      <td>Williams</td>\n",
       "      <td>M</td>\n",
       "      <td>32941 Krystal Mill Apt. 552</td>\n",
       "      <td>...</td>\n",
       "      <td>28.5697</td>\n",
       "      <td>-80.8191</td>\n",
       "      <td>54767</td>\n",
       "      <td>Set designer</td>\n",
       "      <td>1987-07-25</td>\n",
       "      <td>2159175b9efe66dc301f149d3d5abf8c</td>\n",
       "      <td>1371816915</td>\n",
       "      <td>28.812398</td>\n",
       "      <td>-80.883061</td>\n",
       "      <td>0</td>\n",
       "    </tr>\n",
       "    <tr>\n",
       "      <th>4</th>\n",
       "      <td>4</td>\n",
       "      <td>2020-06-21 12:15:17</td>\n",
       "      <td>3526826139003047</td>\n",
       "      <td>fraud_Johnston-Casper</td>\n",
       "      <td>travel</td>\n",
       "      <td>3.19</td>\n",
       "      <td>Nathan</td>\n",
       "      <td>Massey</td>\n",
       "      <td>M</td>\n",
       "      <td>5783 Evan Roads Apt. 465</td>\n",
       "      <td>...</td>\n",
       "      <td>44.2529</td>\n",
       "      <td>-85.0170</td>\n",
       "      <td>1126</td>\n",
       "      <td>Furniture designer</td>\n",
       "      <td>1955-07-06</td>\n",
       "      <td>57ff021bd3f328f8738bb535c302a31b</td>\n",
       "      <td>1371816917</td>\n",
       "      <td>44.959148</td>\n",
       "      <td>-85.884734</td>\n",
       "      <td>0</td>\n",
       "    </tr>\n",
       "  </tbody>\n",
       "</table>\n",
       "<p>5 rows × 23 columns</p>\n",
       "</div>"
      ],
      "text/plain": [
       "   Unnamed: 0 trans_date_trans_time            cc_num  \\\n",
       "0           0   2020-06-21 12:14:25  2291163933867244   \n",
       "1           1   2020-06-21 12:14:33  3573030041201292   \n",
       "2           2   2020-06-21 12:14:53  3598215285024754   \n",
       "3           3   2020-06-21 12:15:15  3591919803438423   \n",
       "4           4   2020-06-21 12:15:17  3526826139003047   \n",
       "\n",
       "                               merchant        category    amt   first  \\\n",
       "0                 fraud_Kirlin and Sons   personal_care   2.86    Jeff   \n",
       "1                  fraud_Sporer-Keebler   personal_care  29.84  Joanne   \n",
       "2  fraud_Swaniawski, Nitzsche and Welch  health_fitness  41.28  Ashley   \n",
       "3                     fraud_Haley Group        misc_pos  60.05   Brian   \n",
       "4                 fraud_Johnston-Casper          travel   3.19  Nathan   \n",
       "\n",
       "       last gender                       street  ...      lat      long  \\\n",
       "0   Elliott      M            351 Darlene Green  ...  33.9659  -80.9355   \n",
       "1  Williams      F             3638 Marsh Union  ...  40.3207 -110.4360   \n",
       "2     Lopez      F         9333 Valentine Point  ...  40.6729  -73.5365   \n",
       "3  Williams      M  32941 Krystal Mill Apt. 552  ...  28.5697  -80.8191   \n",
       "4    Massey      M     5783 Evan Roads Apt. 465  ...  44.2529  -85.0170   \n",
       "\n",
       "   city_pop                     job         dob  \\\n",
       "0    333497     Mechanical engineer  1968-03-19   \n",
       "1       302  Sales professional, IT  1990-01-17   \n",
       "2     34496       Librarian, public  1970-10-21   \n",
       "3     54767            Set designer  1987-07-25   \n",
       "4      1126      Furniture designer  1955-07-06   \n",
       "\n",
       "                          trans_num   unix_time  merch_lat  merch_long  \\\n",
       "0  2da90c7d74bd46a0caf3777415b3ebd3  1371816865  33.986391  -81.200714   \n",
       "1  324cc204407e99f51b0d6ca0055005e7  1371816873  39.450498 -109.960431   \n",
       "2  c81755dbbbea9d5c77f094348a7579be  1371816893  40.495810  -74.196111   \n",
       "3  2159175b9efe66dc301f149d3d5abf8c  1371816915  28.812398  -80.883061   \n",
       "4  57ff021bd3f328f8738bb535c302a31b  1371816917  44.959148  -85.884734   \n",
       "\n",
       "   is_fraud  \n",
       "0         0  \n",
       "1         0  \n",
       "2         0  \n",
       "3         0  \n",
       "4         0  \n",
       "\n",
       "[5 rows x 23 columns]"
      ]
     },
     "execution_count": 4,
     "metadata": {},
     "output_type": "execute_result"
    }
   ],
   "source": [
    "fraudTest.head()"
   ]
  },
  {
   "cell_type": "code",
   "execution_count": 65,
   "id": "0f3172be",
   "metadata": {},
   "outputs": [
    {
     "data": {
      "text/html": [
       "<div>\n",
       "<style scoped>\n",
       "    .dataframe tbody tr th:only-of-type {\n",
       "        vertical-align: middle;\n",
       "    }\n",
       "\n",
       "    .dataframe tbody tr th {\n",
       "        vertical-align: top;\n",
       "    }\n",
       "\n",
       "    .dataframe thead th {\n",
       "        text-align: right;\n",
       "    }\n",
       "</style>\n",
       "<table border=\"1\" class=\"dataframe\">\n",
       "  <thead>\n",
       "    <tr style=\"text-align: right;\">\n",
       "      <th></th>\n",
       "      <th>amt</th>\n",
       "      <th>zip</th>\n",
       "      <th>lat</th>\n",
       "      <th>long</th>\n",
       "      <th>city_pop</th>\n",
       "      <th>unix_time</th>\n",
       "      <th>merch_lat</th>\n",
       "      <th>merch_long</th>\n",
       "      <th>is_fraud</th>\n",
       "      <th>year</th>\n",
       "      <th>...</th>\n",
       "      <th>category_grocery_pos</th>\n",
       "      <th>category_health_fitness</th>\n",
       "      <th>category_home</th>\n",
       "      <th>category_kids_pets</th>\n",
       "      <th>category_misc_net</th>\n",
       "      <th>category_misc_pos</th>\n",
       "      <th>category_personal_care</th>\n",
       "      <th>category_shopping_net</th>\n",
       "      <th>category_shopping_pos</th>\n",
       "      <th>category_travel</th>\n",
       "    </tr>\n",
       "  </thead>\n",
       "  <tbody>\n",
       "    <tr>\n",
       "      <th>count</th>\n",
       "      <td>1.296675e+06</td>\n",
       "      <td>1.296675e+06</td>\n",
       "      <td>1.296675e+06</td>\n",
       "      <td>1.296675e+06</td>\n",
       "      <td>1.296675e+06</td>\n",
       "      <td>1.296675e+06</td>\n",
       "      <td>1.296675e+06</td>\n",
       "      <td>1.296675e+06</td>\n",
       "      <td>1.296675e+06</td>\n",
       "      <td>1.296675e+06</td>\n",
       "      <td>...</td>\n",
       "      <td>1.296675e+06</td>\n",
       "      <td>1.296675e+06</td>\n",
       "      <td>1.296675e+06</td>\n",
       "      <td>1.296675e+06</td>\n",
       "      <td>1.296675e+06</td>\n",
       "      <td>1.296675e+06</td>\n",
       "      <td>1.296675e+06</td>\n",
       "      <td>1.296675e+06</td>\n",
       "      <td>1.296675e+06</td>\n",
       "      <td>1.296675e+06</td>\n",
       "    </tr>\n",
       "    <tr>\n",
       "      <th>mean</th>\n",
       "      <td>7.035104e+01</td>\n",
       "      <td>4.880067e+04</td>\n",
       "      <td>3.853762e+01</td>\n",
       "      <td>-9.022634e+01</td>\n",
       "      <td>8.882444e+04</td>\n",
       "      <td>1.349244e+09</td>\n",
       "      <td>3.853734e+01</td>\n",
       "      <td>-9.022646e+01</td>\n",
       "      <td>5.788652e-03</td>\n",
       "      <td>2.019287e+03</td>\n",
       "      <td>...</td>\n",
       "      <td>9.535003e-02</td>\n",
       "      <td>6.623017e-02</td>\n",
       "      <td>9.494669e-02</td>\n",
       "      <td>8.717296e-02</td>\n",
       "      <td>4.880714e-02</td>\n",
       "      <td>6.143020e-02</td>\n",
       "      <td>6.999287e-02</td>\n",
       "      <td>7.522548e-02</td>\n",
       "      <td>8.997783e-02</td>\n",
       "      <td>3.123913e-02</td>\n",
       "    </tr>\n",
       "    <tr>\n",
       "      <th>std</th>\n",
       "      <td>1.603160e+02</td>\n",
       "      <td>2.689322e+04</td>\n",
       "      <td>5.075808e+00</td>\n",
       "      <td>1.375908e+01</td>\n",
       "      <td>3.019564e+05</td>\n",
       "      <td>1.284128e+07</td>\n",
       "      <td>5.109788e+00</td>\n",
       "      <td>1.377109e+01</td>\n",
       "      <td>7.586269e-02</td>\n",
       "      <td>4.522452e-01</td>\n",
       "      <td>...</td>\n",
       "      <td>2.936979e-01</td>\n",
       "      <td>2.486841e-01</td>\n",
       "      <td>2.931414e-01</td>\n",
       "      <td>2.820885e-01</td>\n",
       "      <td>2.154647e-01</td>\n",
       "      <td>2.401178e-01</td>\n",
       "      <td>2.551351e-01</td>\n",
       "      <td>2.637549e-01</td>\n",
       "      <td>2.861501e-01</td>\n",
       "      <td>1.739634e-01</td>\n",
       "    </tr>\n",
       "    <tr>\n",
       "      <th>min</th>\n",
       "      <td>1.000000e+00</td>\n",
       "      <td>1.257000e+03</td>\n",
       "      <td>2.002710e+01</td>\n",
       "      <td>-1.656723e+02</td>\n",
       "      <td>2.300000e+01</td>\n",
       "      <td>1.325376e+09</td>\n",
       "      <td>1.902779e+01</td>\n",
       "      <td>-1.666712e+02</td>\n",
       "      <td>0.000000e+00</td>\n",
       "      <td>2.019000e+03</td>\n",
       "      <td>...</td>\n",
       "      <td>0.000000e+00</td>\n",
       "      <td>0.000000e+00</td>\n",
       "      <td>0.000000e+00</td>\n",
       "      <td>0.000000e+00</td>\n",
       "      <td>0.000000e+00</td>\n",
       "      <td>0.000000e+00</td>\n",
       "      <td>0.000000e+00</td>\n",
       "      <td>0.000000e+00</td>\n",
       "      <td>0.000000e+00</td>\n",
       "      <td>0.000000e+00</td>\n",
       "    </tr>\n",
       "    <tr>\n",
       "      <th>25%</th>\n",
       "      <td>9.650000e+00</td>\n",
       "      <td>2.623700e+04</td>\n",
       "      <td>3.462050e+01</td>\n",
       "      <td>-9.679800e+01</td>\n",
       "      <td>7.430000e+02</td>\n",
       "      <td>1.338751e+09</td>\n",
       "      <td>3.473357e+01</td>\n",
       "      <td>-9.689728e+01</td>\n",
       "      <td>0.000000e+00</td>\n",
       "      <td>2.019000e+03</td>\n",
       "      <td>...</td>\n",
       "      <td>0.000000e+00</td>\n",
       "      <td>0.000000e+00</td>\n",
       "      <td>0.000000e+00</td>\n",
       "      <td>0.000000e+00</td>\n",
       "      <td>0.000000e+00</td>\n",
       "      <td>0.000000e+00</td>\n",
       "      <td>0.000000e+00</td>\n",
       "      <td>0.000000e+00</td>\n",
       "      <td>0.000000e+00</td>\n",
       "      <td>0.000000e+00</td>\n",
       "    </tr>\n",
       "    <tr>\n",
       "      <th>50%</th>\n",
       "      <td>4.752000e+01</td>\n",
       "      <td>4.817400e+04</td>\n",
       "      <td>3.935430e+01</td>\n",
       "      <td>-8.747690e+01</td>\n",
       "      <td>2.456000e+03</td>\n",
       "      <td>1.349250e+09</td>\n",
       "      <td>3.936568e+01</td>\n",
       "      <td>-8.743839e+01</td>\n",
       "      <td>0.000000e+00</td>\n",
       "      <td>2.019000e+03</td>\n",
       "      <td>...</td>\n",
       "      <td>0.000000e+00</td>\n",
       "      <td>0.000000e+00</td>\n",
       "      <td>0.000000e+00</td>\n",
       "      <td>0.000000e+00</td>\n",
       "      <td>0.000000e+00</td>\n",
       "      <td>0.000000e+00</td>\n",
       "      <td>0.000000e+00</td>\n",
       "      <td>0.000000e+00</td>\n",
       "      <td>0.000000e+00</td>\n",
       "      <td>0.000000e+00</td>\n",
       "    </tr>\n",
       "    <tr>\n",
       "      <th>75%</th>\n",
       "      <td>8.314000e+01</td>\n",
       "      <td>7.204200e+04</td>\n",
       "      <td>4.194040e+01</td>\n",
       "      <td>-8.015800e+01</td>\n",
       "      <td>2.032800e+04</td>\n",
       "      <td>1.359385e+09</td>\n",
       "      <td>4.195716e+01</td>\n",
       "      <td>-8.023680e+01</td>\n",
       "      <td>0.000000e+00</td>\n",
       "      <td>2.020000e+03</td>\n",
       "      <td>...</td>\n",
       "      <td>0.000000e+00</td>\n",
       "      <td>0.000000e+00</td>\n",
       "      <td>0.000000e+00</td>\n",
       "      <td>0.000000e+00</td>\n",
       "      <td>0.000000e+00</td>\n",
       "      <td>0.000000e+00</td>\n",
       "      <td>0.000000e+00</td>\n",
       "      <td>0.000000e+00</td>\n",
       "      <td>0.000000e+00</td>\n",
       "      <td>0.000000e+00</td>\n",
       "    </tr>\n",
       "    <tr>\n",
       "      <th>max</th>\n",
       "      <td>2.894890e+04</td>\n",
       "      <td>9.978300e+04</td>\n",
       "      <td>6.669330e+01</td>\n",
       "      <td>-6.795030e+01</td>\n",
       "      <td>2.906700e+06</td>\n",
       "      <td>1.371817e+09</td>\n",
       "      <td>6.751027e+01</td>\n",
       "      <td>-6.695090e+01</td>\n",
       "      <td>1.000000e+00</td>\n",
       "      <td>2.020000e+03</td>\n",
       "      <td>...</td>\n",
       "      <td>1.000000e+00</td>\n",
       "      <td>1.000000e+00</td>\n",
       "      <td>1.000000e+00</td>\n",
       "      <td>1.000000e+00</td>\n",
       "      <td>1.000000e+00</td>\n",
       "      <td>1.000000e+00</td>\n",
       "      <td>1.000000e+00</td>\n",
       "      <td>1.000000e+00</td>\n",
       "      <td>1.000000e+00</td>\n",
       "      <td>1.000000e+00</td>\n",
       "    </tr>\n",
       "  </tbody>\n",
       "</table>\n",
       "<p>8 rows × 25 columns</p>\n",
       "</div>"
      ],
      "text/plain": [
       "                amt           zip           lat          long      city_pop  \\\n",
       "count  1.296675e+06  1.296675e+06  1.296675e+06  1.296675e+06  1.296675e+06   \n",
       "mean   7.035104e+01  4.880067e+04  3.853762e+01 -9.022634e+01  8.882444e+04   \n",
       "std    1.603160e+02  2.689322e+04  5.075808e+00  1.375908e+01  3.019564e+05   \n",
       "min    1.000000e+00  1.257000e+03  2.002710e+01 -1.656723e+02  2.300000e+01   \n",
       "25%    9.650000e+00  2.623700e+04  3.462050e+01 -9.679800e+01  7.430000e+02   \n",
       "50%    4.752000e+01  4.817400e+04  3.935430e+01 -8.747690e+01  2.456000e+03   \n",
       "75%    8.314000e+01  7.204200e+04  4.194040e+01 -8.015800e+01  2.032800e+04   \n",
       "max    2.894890e+04  9.978300e+04  6.669330e+01 -6.795030e+01  2.906700e+06   \n",
       "\n",
       "          unix_time     merch_lat    merch_long      is_fraud          year  \\\n",
       "count  1.296675e+06  1.296675e+06  1.296675e+06  1.296675e+06  1.296675e+06   \n",
       "mean   1.349244e+09  3.853734e+01 -9.022646e+01  5.788652e-03  2.019287e+03   \n",
       "std    1.284128e+07  5.109788e+00  1.377109e+01  7.586269e-02  4.522452e-01   \n",
       "min    1.325376e+09  1.902779e+01 -1.666712e+02  0.000000e+00  2.019000e+03   \n",
       "25%    1.338751e+09  3.473357e+01 -9.689728e+01  0.000000e+00  2.019000e+03   \n",
       "50%    1.349250e+09  3.936568e+01 -8.743839e+01  0.000000e+00  2.019000e+03   \n",
       "75%    1.359385e+09  4.195716e+01 -8.023680e+01  0.000000e+00  2.020000e+03   \n",
       "max    1.371817e+09  6.751027e+01 -6.695090e+01  1.000000e+00  2.020000e+03   \n",
       "\n",
       "       ...  category_grocery_pos  category_health_fitness  category_home  \\\n",
       "count  ...          1.296675e+06             1.296675e+06   1.296675e+06   \n",
       "mean   ...          9.535003e-02             6.623017e-02   9.494669e-02   \n",
       "std    ...          2.936979e-01             2.486841e-01   2.931414e-01   \n",
       "min    ...          0.000000e+00             0.000000e+00   0.000000e+00   \n",
       "25%    ...          0.000000e+00             0.000000e+00   0.000000e+00   \n",
       "50%    ...          0.000000e+00             0.000000e+00   0.000000e+00   \n",
       "75%    ...          0.000000e+00             0.000000e+00   0.000000e+00   \n",
       "max    ...          1.000000e+00             1.000000e+00   1.000000e+00   \n",
       "\n",
       "       category_kids_pets  category_misc_net  category_misc_pos  \\\n",
       "count        1.296675e+06       1.296675e+06       1.296675e+06   \n",
       "mean         8.717296e-02       4.880714e-02       6.143020e-02   \n",
       "std          2.820885e-01       2.154647e-01       2.401178e-01   \n",
       "min          0.000000e+00       0.000000e+00       0.000000e+00   \n",
       "25%          0.000000e+00       0.000000e+00       0.000000e+00   \n",
       "50%          0.000000e+00       0.000000e+00       0.000000e+00   \n",
       "75%          0.000000e+00       0.000000e+00       0.000000e+00   \n",
       "max          1.000000e+00       1.000000e+00       1.000000e+00   \n",
       "\n",
       "       category_personal_care  category_shopping_net  category_shopping_pos  \\\n",
       "count            1.296675e+06           1.296675e+06           1.296675e+06   \n",
       "mean             6.999287e-02           7.522548e-02           8.997783e-02   \n",
       "std              2.551351e-01           2.637549e-01           2.861501e-01   \n",
       "min              0.000000e+00           0.000000e+00           0.000000e+00   \n",
       "25%              0.000000e+00           0.000000e+00           0.000000e+00   \n",
       "50%              0.000000e+00           0.000000e+00           0.000000e+00   \n",
       "75%              0.000000e+00           0.000000e+00           0.000000e+00   \n",
       "max              1.000000e+00           1.000000e+00           1.000000e+00   \n",
       "\n",
       "       category_travel  \n",
       "count     1.296675e+06  \n",
       "mean      3.123913e-02  \n",
       "std       1.739634e-01  \n",
       "min       0.000000e+00  \n",
       "25%       0.000000e+00  \n",
       "50%       0.000000e+00  \n",
       "75%       0.000000e+00  \n",
       "max       1.000000e+00  \n",
       "\n",
       "[8 rows x 25 columns]"
      ]
     },
     "execution_count": 65,
     "metadata": {},
     "output_type": "execute_result"
    }
   ],
   "source": [
    "fraudTrain.describe()"
   ]
  },
  {
   "cell_type": "code",
   "execution_count": 66,
   "id": "325cd0b0",
   "metadata": {},
   "outputs": [
    {
     "data": {
      "text/plain": [
       "(1296675, 34)"
      ]
     },
     "execution_count": 66,
     "metadata": {},
     "output_type": "execute_result"
    }
   ],
   "source": [
    "fraudTrain.shape"
   ]
  },
  {
   "cell_type": "code",
   "execution_count": null,
   "id": "9e3b0674",
   "metadata": {},
   "outputs": [],
   "source": [
    "print(\"No of Fraud\",len(fraudTrain[fraudTrain['is_fraud']==1]))"
   ]
  },
  {
   "cell_type": "code",
   "execution_count": 5,
   "id": "11016793",
   "metadata": {
    "execution": {
     "iopub.execute_input": "2022-05-20T08:12:29.404725Z",
     "iopub.status.busy": "2022-05-20T08:12:29.403765Z",
     "iopub.status.idle": "2022-05-20T08:12:29.900243Z",
     "shell.execute_reply": "2022-05-20T08:12:29.899309Z"
    },
    "papermill": {
     "duration": 0.536215,
     "end_time": "2022-05-20T08:12:29.902886",
     "exception": false,
     "start_time": "2022-05-20T08:12:29.366671",
     "status": "completed"
    },
    "tags": []
   },
   "outputs": [],
   "source": [
    "fraudTrain.drop(\"Unnamed: 0\",axis=1,inplace=True) \n",
    "fraudTest.drop(\"Unnamed: 0\",axis=1,inplace=True) \n",
    "fraudTrain = fraudTrain.drop(['cc_num','first','last','trans_num'],axis=1)\n",
    "fraudTest = fraudTest.drop(['cc_num','first','last','trans_num'],axis=1)"
   ]
  },
  {
   "cell_type": "code",
   "execution_count": 6,
   "id": "ca6255b1",
   "metadata": {
    "execution": {
     "iopub.execute_input": "2022-05-20T08:12:29.975855Z",
     "iopub.status.busy": "2022-05-20T08:12:29.975575Z",
     "iopub.status.idle": "2022-05-20T08:12:32.876498Z",
     "shell.execute_reply": "2022-05-20T08:12:32.875591Z"
    },
    "papermill": {
     "duration": 2.940718,
     "end_time": "2022-05-20T08:12:32.879335",
     "exception": false,
     "start_time": "2022-05-20T08:12:29.938617",
     "status": "completed"
    },
    "tags": []
   },
   "outputs": [],
   "source": [
    "from datetime import datetime as dt\n",
    "fraudTrain[\"trans_date_trans_time\"] = pd.to_datetime(fraudTrain[\"trans_date_trans_time\"])\n",
    "fraudTrain[\"trans_date\"] = fraudTrain[\"trans_date_trans_time\"].dt.date\n",
    "fraudTrain[\"trans_date\"]= pd.to_datetime(fraudTrain[\"trans_date\"])\n",
    "\n",
    "fraudTrain['year'] = fraudTrain['trans_date'].dt.year\n",
    "fraudTrain['month'] = fraudTrain['trans_date'].dt.month\n",
    "fraudTrain['day'] = fraudTrain['trans_date'].dt.day\n",
    "\n",
    "fraudTest[\"trans_date_trans_time\"] = pd.to_datetime(fraudTest[\"trans_date_trans_time\"])\n",
    "fraudTest[\"trans_date\"] = fraudTest[\"trans_date_trans_time\"].dt.date\n",
    "fraudTest[\"trans_date\"]= pd.to_datetime(fraudTest[\"trans_date\"])\n",
    "\n",
    "fraudTest['year'] = fraudTest['trans_date'].dt.year\n",
    "fraudTest['month'] = fraudTest['trans_date'].dt.month\n",
    "fraudTest['day'] = fraudTest['trans_date'].dt.day"
   ]
  },
  {
   "cell_type": "markdown",
   "id": "4b9acbe1",
   "metadata": {
    "papermill": {
     "duration": 0.03577,
     "end_time": "2022-05-20T08:12:32.952865",
     "exception": false,
     "start_time": "2022-05-20T08:12:32.917095",
     "status": "completed"
    },
    "tags": []
   },
   "source": [
    "**Show the number of fraud / normal transactions**"
   ]
  },
  {
   "cell_type": "code",
   "execution_count": 7,
   "id": "16d6bb25",
   "metadata": {
    "execution": {
     "iopub.execute_input": "2022-05-20T08:12:33.029185Z",
     "iopub.status.busy": "2022-05-20T08:12:33.028827Z",
     "iopub.status.idle": "2022-05-20T08:12:33.045629Z",
     "shell.execute_reply": "2022-05-20T08:12:33.044740Z"
    },
    "papermill": {
     "duration": 0.058501,
     "end_time": "2022-05-20T08:12:33.047845",
     "exception": false,
     "start_time": "2022-05-20T08:12:32.989344",
     "status": "completed"
    },
    "tags": []
   },
   "outputs": [
    {
     "data": {
      "text/plain": [
       "0    1289169\n",
       "1       7506\n",
       "Name: is_fraud, dtype: int64"
      ]
     },
     "execution_count": 7,
     "metadata": {},
     "output_type": "execute_result"
    }
   ],
   "source": [
    "fraudTrain[\"is_fraud\"].value_counts()"
   ]
  },
  {
   "cell_type": "markdown",
   "id": "5900e6d6",
   "metadata": {
    "papermill": {
     "duration": 0.037988,
     "end_time": "2022-05-20T08:12:33.122580",
     "exception": false,
     "start_time": "2022-05-20T08:12:33.084592",
     "status": "completed"
    },
    "tags": []
   },
   "source": [
    "**Mean Amount difference between fraud / normal transactions**"
   ]
  },
  {
   "cell_type": "code",
   "execution_count": 8,
   "id": "1978c803",
   "metadata": {
    "execution": {
     "iopub.execute_input": "2022-05-20T08:12:33.197900Z",
     "iopub.status.busy": "2022-05-20T08:12:33.197611Z",
     "iopub.status.idle": "2022-05-20T08:12:33.230735Z",
     "shell.execute_reply": "2022-05-20T08:12:33.229795Z"
    },
    "papermill": {
     "duration": 0.072823,
     "end_time": "2022-05-20T08:12:33.232830",
     "exception": false,
     "start_time": "2022-05-20T08:12:33.160007",
     "status": "completed"
    },
    "tags": []
   },
   "outputs": [
    {
     "data": {
      "text/plain": [
       "is_fraud\n",
       "0     67.667110\n",
       "1    531.320092\n",
       "Name: amt, dtype: float64"
      ]
     },
     "execution_count": 8,
     "metadata": {},
     "output_type": "execute_result"
    }
   ],
   "source": [
    "fraudTrain.groupby(\"is_fraud\")['amt'].mean()"
   ]
  },
  {
   "cell_type": "markdown",
   "id": "c0e09ec4",
   "metadata": {
    "papermill": {
     "duration": 0.036022,
     "end_time": "2022-05-20T08:12:33.305299",
     "exception": false,
     "start_time": "2022-05-20T08:12:33.269277",
     "status": "completed"
    },
    "tags": []
   },
   "source": [
    "**Show number of frauds by categories**"
   ]
  },
  {
   "cell_type": "code",
   "execution_count": 9,
   "id": "289a0f88",
   "metadata": {
    "execution": {
     "iopub.execute_input": "2022-05-20T08:12:33.379628Z",
     "iopub.status.busy": "2022-05-20T08:12:33.379018Z",
     "iopub.status.idle": "2022-05-20T08:12:33.701339Z",
     "shell.execute_reply": "2022-05-20T08:12:33.700389Z"
    },
    "papermill": {
     "duration": 0.361975,
     "end_time": "2022-05-20T08:12:33.703489",
     "exception": false,
     "start_time": "2022-05-20T08:12:33.341514",
     "status": "completed"
    },
    "tags": []
   },
   "outputs": [
    {
     "data": {
      "text/html": [
       "<div>\n",
       "<style scoped>\n",
       "    .dataframe tbody tr th:only-of-type {\n",
       "        vertical-align: middle;\n",
       "    }\n",
       "\n",
       "    .dataframe tbody tr th {\n",
       "        vertical-align: top;\n",
       "    }\n",
       "\n",
       "    .dataframe thead th {\n",
       "        text-align: right;\n",
       "    }\n",
       "</style>\n",
       "<table border=\"1\" class=\"dataframe\">\n",
       "  <thead>\n",
       "    <tr style=\"text-align: right;\">\n",
       "      <th>is_fraud</th>\n",
       "      <th>0</th>\n",
       "      <th>1</th>\n",
       "    </tr>\n",
       "    <tr>\n",
       "      <th>category</th>\n",
       "      <th></th>\n",
       "      <th></th>\n",
       "    </tr>\n",
       "  </thead>\n",
       "  <tbody>\n",
       "    <tr>\n",
       "      <th>entertainment</th>\n",
       "      <td>93781</td>\n",
       "      <td>233</td>\n",
       "    </tr>\n",
       "    <tr>\n",
       "      <th>food_dining</th>\n",
       "      <td>91310</td>\n",
       "      <td>151</td>\n",
       "    </tr>\n",
       "    <tr>\n",
       "      <th>gas_transport</th>\n",
       "      <td>131041</td>\n",
       "      <td>618</td>\n",
       "    </tr>\n",
       "    <tr>\n",
       "      <th>grocery_net</th>\n",
       "      <td>45318</td>\n",
       "      <td>134</td>\n",
       "    </tr>\n",
       "    <tr>\n",
       "      <th>grocery_pos</th>\n",
       "      <td>121895</td>\n",
       "      <td>1743</td>\n",
       "    </tr>\n",
       "    <tr>\n",
       "      <th>health_fitness</th>\n",
       "      <td>85746</td>\n",
       "      <td>133</td>\n",
       "    </tr>\n",
       "    <tr>\n",
       "      <th>home</th>\n",
       "      <td>122917</td>\n",
       "      <td>198</td>\n",
       "    </tr>\n",
       "    <tr>\n",
       "      <th>kids_pets</th>\n",
       "      <td>112796</td>\n",
       "      <td>239</td>\n",
       "    </tr>\n",
       "    <tr>\n",
       "      <th>misc_net</th>\n",
       "      <td>62372</td>\n",
       "      <td>915</td>\n",
       "    </tr>\n",
       "    <tr>\n",
       "      <th>misc_pos</th>\n",
       "      <td>79405</td>\n",
       "      <td>250</td>\n",
       "    </tr>\n",
       "    <tr>\n",
       "      <th>personal_care</th>\n",
       "      <td>90538</td>\n",
       "      <td>220</td>\n",
       "    </tr>\n",
       "    <tr>\n",
       "      <th>shopping_net</th>\n",
       "      <td>95830</td>\n",
       "      <td>1713</td>\n",
       "    </tr>\n",
       "    <tr>\n",
       "      <th>shopping_pos</th>\n",
       "      <td>115829</td>\n",
       "      <td>843</td>\n",
       "    </tr>\n",
       "    <tr>\n",
       "      <th>travel</th>\n",
       "      <td>40391</td>\n",
       "      <td>116</td>\n",
       "    </tr>\n",
       "  </tbody>\n",
       "</table>\n",
       "</div>"
      ],
      "text/plain": [
       "is_fraud             0     1\n",
       "category                    \n",
       "entertainment    93781   233\n",
       "food_dining      91310   151\n",
       "gas_transport   131041   618\n",
       "grocery_net      45318   134\n",
       "grocery_pos     121895  1743\n",
       "health_fitness   85746   133\n",
       "home            122917   198\n",
       "kids_pets       112796   239\n",
       "misc_net         62372   915\n",
       "misc_pos         79405   250\n",
       "personal_care    90538   220\n",
       "shopping_net     95830  1713\n",
       "shopping_pos    115829   843\n",
       "travel           40391   116"
      ]
     },
     "execution_count": 9,
     "metadata": {},
     "output_type": "execute_result"
    }
   ],
   "source": [
    "\n",
    "pd.crosstab(fraudTrain[\"category\"],fraudTrain[\"is_fraud\"])"
   ]
  },
  {
   "cell_type": "markdown",
   "id": "a2b0afe2",
   "metadata": {
    "papermill": {
     "duration": 0.038157,
     "end_time": "2022-05-20T08:12:33.778750",
     "exception": false,
     "start_time": "2022-05-20T08:12:33.740593",
     "status": "completed"
    },
    "tags": []
   },
   "source": [
    "**Show the proportion of fraud by categories**"
   ]
  },
  {
   "cell_type": "code",
   "execution_count": 10,
   "id": "9dd4dbd0",
   "metadata": {
    "execution": {
     "iopub.execute_input": "2022-05-20T08:12:33.856605Z",
     "iopub.status.busy": "2022-05-20T08:12:33.855872Z",
     "iopub.status.idle": "2022-05-20T08:12:34.127020Z",
     "shell.execute_reply": "2022-05-20T08:12:34.126222Z"
    },
    "papermill": {
     "duration": 0.31237,
     "end_time": "2022-05-20T08:12:34.129204",
     "exception": false,
     "start_time": "2022-05-20T08:12:33.816834",
     "status": "completed"
    },
    "tags": []
   },
   "outputs": [
    {
     "data": {
      "text/html": [
       "<div>\n",
       "<style scoped>\n",
       "    .dataframe tbody tr th:only-of-type {\n",
       "        vertical-align: middle;\n",
       "    }\n",
       "\n",
       "    .dataframe tbody tr th {\n",
       "        vertical-align: top;\n",
       "    }\n",
       "\n",
       "    .dataframe thead th {\n",
       "        text-align: right;\n",
       "    }\n",
       "</style>\n",
       "<table border=\"1\" class=\"dataframe\">\n",
       "  <thead>\n",
       "    <tr style=\"text-align: right;\">\n",
       "      <th>is_fraud</th>\n",
       "      <th>0</th>\n",
       "      <th>1</th>\n",
       "    </tr>\n",
       "    <tr>\n",
       "      <th>category</th>\n",
       "      <th></th>\n",
       "      <th></th>\n",
       "    </tr>\n",
       "  </thead>\n",
       "  <tbody>\n",
       "    <tr>\n",
       "      <th>entertainment</th>\n",
       "      <td>0.997522</td>\n",
       "      <td>0.002478</td>\n",
       "    </tr>\n",
       "    <tr>\n",
       "      <th>food_dining</th>\n",
       "      <td>0.998349</td>\n",
       "      <td>0.001651</td>\n",
       "    </tr>\n",
       "    <tr>\n",
       "      <th>gas_transport</th>\n",
       "      <td>0.995306</td>\n",
       "      <td>0.004694</td>\n",
       "    </tr>\n",
       "    <tr>\n",
       "      <th>grocery_net</th>\n",
       "      <td>0.997052</td>\n",
       "      <td>0.002948</td>\n",
       "    </tr>\n",
       "    <tr>\n",
       "      <th>grocery_pos</th>\n",
       "      <td>0.985902</td>\n",
       "      <td>0.014098</td>\n",
       "    </tr>\n",
       "    <tr>\n",
       "      <th>health_fitness</th>\n",
       "      <td>0.998451</td>\n",
       "      <td>0.001549</td>\n",
       "    </tr>\n",
       "    <tr>\n",
       "      <th>home</th>\n",
       "      <td>0.998392</td>\n",
       "      <td>0.001608</td>\n",
       "    </tr>\n",
       "    <tr>\n",
       "      <th>kids_pets</th>\n",
       "      <td>0.997886</td>\n",
       "      <td>0.002114</td>\n",
       "    </tr>\n",
       "    <tr>\n",
       "      <th>misc_net</th>\n",
       "      <td>0.985542</td>\n",
       "      <td>0.014458</td>\n",
       "    </tr>\n",
       "    <tr>\n",
       "      <th>misc_pos</th>\n",
       "      <td>0.996861</td>\n",
       "      <td>0.003139</td>\n",
       "    </tr>\n",
       "    <tr>\n",
       "      <th>personal_care</th>\n",
       "      <td>0.997576</td>\n",
       "      <td>0.002424</td>\n",
       "    </tr>\n",
       "    <tr>\n",
       "      <th>shopping_net</th>\n",
       "      <td>0.982439</td>\n",
       "      <td>0.017561</td>\n",
       "    </tr>\n",
       "    <tr>\n",
       "      <th>shopping_pos</th>\n",
       "      <td>0.992775</td>\n",
       "      <td>0.007225</td>\n",
       "    </tr>\n",
       "    <tr>\n",
       "      <th>travel</th>\n",
       "      <td>0.997136</td>\n",
       "      <td>0.002864</td>\n",
       "    </tr>\n",
       "  </tbody>\n",
       "</table>\n",
       "</div>"
      ],
      "text/plain": [
       "is_fraud               0         1\n",
       "category                          \n",
       "entertainment   0.997522  0.002478\n",
       "food_dining     0.998349  0.001651\n",
       "gas_transport   0.995306  0.004694\n",
       "grocery_net     0.997052  0.002948\n",
       "grocery_pos     0.985902  0.014098\n",
       "health_fitness  0.998451  0.001549\n",
       "home            0.998392  0.001608\n",
       "kids_pets       0.997886  0.002114\n",
       "misc_net        0.985542  0.014458\n",
       "misc_pos        0.996861  0.003139\n",
       "personal_care   0.997576  0.002424\n",
       "shopping_net    0.982439  0.017561\n",
       "shopping_pos    0.992775  0.007225\n",
       "travel          0.997136  0.002864"
      ]
     },
     "execution_count": 10,
     "metadata": {},
     "output_type": "execute_result"
    }
   ],
   "source": [
    "\n",
    "pd.crosstab(fraudTrain[\"category\"],fraudTrain[\"is_fraud\"],normalize='index')"
   ]
  },
  {
   "cell_type": "markdown",
   "id": "081ea37f",
   "metadata": {
    "execution": {
     "iopub.execute_input": "2022-05-20T08:12:34.924763Z",
     "iopub.status.busy": "2022-05-20T08:12:34.924201Z",
     "iopub.status.idle": "2022-05-20T08:12:34.927600Z",
     "shell.execute_reply": "2022-05-20T08:12:34.926744Z"
    },
    "papermill": {
     "duration": 0.046209,
     "end_time": "2022-05-20T08:12:34.929657",
     "exception": false,
     "start_time": "2022-05-20T08:12:34.883448",
     "status": "completed"
    },
    "tags": []
   },
   "source": [
    "## Preprocessing"
   ]
  },
  {
   "cell_type": "code",
   "execution_count": 11,
   "id": "54d23953",
   "metadata": {
    "execution": {
     "iopub.execute_input": "2022-05-20T08:12:35.012979Z",
     "iopub.status.busy": "2022-05-20T08:12:35.012326Z",
     "iopub.status.idle": "2022-05-20T08:12:36.412057Z",
     "shell.execute_reply": "2022-05-20T08:12:36.411319Z"
    },
    "papermill": {
     "duration": 1.443887,
     "end_time": "2022-05-20T08:12:36.414437",
     "exception": false,
     "start_time": "2022-05-20T08:12:34.970550",
     "status": "completed"
    },
    "tags": []
   },
   "outputs": [],
   "source": [
    "fraudTrain = pd.get_dummies(fraudTrain,columns=['category'],drop_first=True)\n",
    "fraudTest = pd.get_dummies(fraudTest,columns=['category'],drop_first=True)\n",
    "\n",
    "fraudTrain.columns = fraudTrain.columns.str.replace(' ', '')\n",
    "fraudTest.columns = fraudTest.columns.str.replace(' ', '')\n",
    "\n",
    "train = fraudTrain.select_dtypes(include='number')\n",
    "test = fraudTest.select_dtypes(include='number')"
   ]
  },
  {
   "cell_type": "code",
   "execution_count": 12,
   "id": "03dc1aea",
   "metadata": {
    "execution": {
     "iopub.execute_input": "2022-05-20T08:12:36.494986Z",
     "iopub.status.busy": "2022-05-20T08:12:36.494465Z",
     "iopub.status.idle": "2022-05-20T08:12:36.610280Z",
     "shell.execute_reply": "2022-05-20T08:12:36.609096Z"
    },
    "papermill": {
     "duration": 0.159106,
     "end_time": "2022-05-20T08:12:36.612757",
     "exception": false,
     "start_time": "2022-05-20T08:12:36.453651",
     "status": "completed"
    },
    "tags": []
   },
   "outputs": [],
   "source": [
    "total = pd.concat([train, test])"
   ]
  },
  {
   "cell_type": "code",
   "execution_count": 13,
   "id": "00de1268",
   "metadata": {
    "execution": {
     "iopub.execute_input": "2022-05-20T08:12:36.693372Z",
     "iopub.status.busy": "2022-05-20T08:12:36.692767Z",
     "iopub.status.idle": "2022-05-20T08:12:36.912056Z",
     "shell.execute_reply": "2022-05-20T08:12:36.911315Z"
    },
    "papermill": {
     "duration": 0.262163,
     "end_time": "2022-05-20T08:12:36.914380",
     "exception": false,
     "start_time": "2022-05-20T08:12:36.652217",
     "status": "completed"
    },
    "tags": []
   },
   "outputs": [],
   "source": [
    "X = total.drop(\"is_fraud\",axis=1) \n",
    "y = total[\"is_fraud\"]"
   ]
  },
  {
   "cell_type": "code",
   "execution_count": 14,
   "id": "dec47693",
   "metadata": {
    "execution": {
     "iopub.execute_input": "2022-05-20T08:12:37.414304Z",
     "iopub.status.busy": "2022-05-20T08:12:37.413989Z",
     "iopub.status.idle": "2022-05-20T08:12:37.450399Z",
     "shell.execute_reply": "2022-05-20T08:12:37.449368Z"
    },
    "papermill": {
     "duration": 0.079757,
     "end_time": "2022-05-20T08:12:37.452786",
     "exception": false,
     "start_time": "2022-05-20T08:12:37.373029",
     "status": "completed"
    },
    "tags": []
   },
   "outputs": [],
   "source": [
    "X = X.drop(['zip','lat','long','unix_time','merch_lat','merch_long'],axis=1)"
   ]
  },
  {
   "cell_type": "markdown",
   "id": "ba833fe1",
   "metadata": {},
   "source": [
    "## Split"
   ]
  },
  {
   "cell_type": "code",
   "execution_count": 15,
   "id": "0e07c6fe",
   "metadata": {
    "execution": {
     "iopub.execute_input": "2022-05-20T08:12:37.614274Z",
     "iopub.status.busy": "2022-05-20T08:12:37.613967Z",
     "iopub.status.idle": "2022-05-20T08:12:38.442398Z",
     "shell.execute_reply": "2022-05-20T08:12:38.441376Z"
    },
    "papermill": {
     "duration": 0.872124,
     "end_time": "2022-05-20T08:12:38.444870",
     "exception": false,
     "start_time": "2022-05-20T08:12:37.572746",
     "status": "completed"
    },
    "tags": []
   },
   "outputs": [],
   "source": [
    "from sklearn.model_selection import train_test_split\n",
    "X_train, X_test, y_train, y_test = train_test_split(\n",
    " X, y, test_size=0.3, random_state=42)"
   ]
  },
  {
   "cell_type": "markdown",
   "id": "eebb0d5a",
   "metadata": {},
   "source": [
    "## Metrices"
   ]
  },
  {
   "cell_type": "code",
   "execution_count": 16,
   "id": "505fad27",
   "metadata": {
    "execution": {
     "iopub.execute_input": "2022-05-20T08:12:38.526996Z",
     "iopub.status.busy": "2022-05-20T08:12:38.526498Z",
     "iopub.status.idle": "2022-05-20T08:12:38.925564Z",
     "shell.execute_reply": "2022-05-20T08:12:38.924716Z"
    },
    "papermill": {
     "duration": 0.442826,
     "end_time": "2022-05-20T08:12:38.928051",
     "exception": false,
     "start_time": "2022-05-20T08:12:38.485225",
     "status": "completed"
    },
    "tags": []
   },
   "outputs": [],
   "source": [
    "from sklearn.preprocessing import MinMaxScaler\n",
    "scaler = MinMaxScaler()\n",
    "X_train = scaler.fit_transform(X_train)\n",
    "X_test = scaler.transform(X_test)"
   ]
  },
  {
   "cell_type": "markdown",
   "id": "416c7f33",
   "metadata": {
    "papermill": {
     "duration": 0.039644,
     "end_time": "2022-05-20T08:12:37.532842",
     "exception": false,
     "start_time": "2022-05-20T08:12:37.493198",
     "status": "completed"
    },
    "tags": []
   },
   "source": [
    "# DecisionTreeClassifier"
   ]
  },
  {
   "cell_type": "code",
   "execution_count": 17,
   "id": "b6af95a6",
   "metadata": {
    "execution": {
     "iopub.execute_input": "2022-05-20T08:12:39.012853Z",
     "iopub.status.busy": "2022-05-20T08:12:39.012562Z",
     "iopub.status.idle": "2022-05-20T08:12:46.544857Z",
     "shell.execute_reply": "2022-05-20T08:12:46.543908Z"
    },
    "papermill": {
     "duration": 7.576624,
     "end_time": "2022-05-20T08:12:46.547348",
     "exception": false,
     "start_time": "2022-05-20T08:12:38.970724",
     "status": "completed"
    },
    "tags": []
   },
   "outputs": [
    {
     "data": {
      "text/plain": [
       "DecisionTreeClassifier()"
      ]
     },
     "execution_count": 17,
     "metadata": {},
     "output_type": "execute_result"
    }
   ],
   "source": [
    "from sklearn.tree import DecisionTreeClassifier\n",
    "\n",
    "dtc = DecisionTreeClassifier()\n",
    "dtc.fit(X_train,y_train)"
   ]
  },
  {
   "cell_type": "code",
   "execution_count": 18,
   "id": "ddf81fc5",
   "metadata": {
    "execution": {
     "iopub.execute_input": "2022-05-20T08:12:46.630559Z",
     "iopub.status.busy": "2022-05-20T08:12:46.629793Z",
     "iopub.status.idle": "2022-05-20T08:12:47.365331Z",
     "shell.execute_reply": "2022-05-20T08:12:47.364356Z"
    },
    "papermill": {
     "duration": 0.780219,
     "end_time": "2022-05-20T08:12:47.368276",
     "exception": false,
     "start_time": "2022-05-20T08:12:46.588057",
     "status": "completed"
    },
    "tags": []
   },
   "outputs": [
    {
     "name": "stdout",
     "output_type": "stream",
     "text": [
      "Score the X-train with Y-train is :  1.0\n",
      "Score the X-test  with Y-test  is :  0.99591340227705\n",
      "Accuracy score  0.99591340227705\n",
      "F1 score:  99.6 %\n"
     ]
    }
   ],
   "source": [
    "from sklearn.metrics import accuracy_score, mean_absolute_error ,mean_squared_error, confusion_matrix, median_absolute_error,classification_report, f1_score,recall_score,precision_score\n",
    "\n",
    "print(\"Score the X-train with Y-train is : \", dtc.score(X_train,y_train))\n",
    "print(\"Score the X-test  with Y-test  is : \", dtc.score(X_test,y_test))\n",
    "\n",
    "y_pred=dtc.predict(X_test)\n",
    "\n",
    "print(\"Accuracy score \" , accuracy_score(y_test,y_pred))\n",
    "print(\"F1 score: \", round(f1_score(y_test, y_pred, average='weighted')*100,2),\"%\")\n"
   ]
  },
  {
   "cell_type": "code",
   "execution_count": 19,
   "id": "97f465f7",
   "metadata": {
    "execution": {
     "iopub.execute_input": "2022-05-20T08:12:47.454363Z",
     "iopub.status.busy": "2022-05-20T08:12:47.454080Z",
     "iopub.status.idle": "2022-05-20T08:12:48.388027Z",
     "shell.execute_reply": "2022-05-20T08:12:48.387113Z"
    },
    "papermill": {
     "duration": 0.979146,
     "end_time": "2022-05-20T08:12:48.390537",
     "exception": false,
     "start_time": "2022-05-20T08:12:47.411391",
     "status": "completed"
    },
    "tags": []
   },
   "outputs": [
    {
     "name": "stdout",
     "output_type": "stream",
     "text": [
      "Classification report : \n",
      "               precision    recall  f1-score   support\n",
      "\n",
      "           1       0.61      0.64      0.62      2938\n",
      "           0       1.00      1.00      1.00    552781\n",
      "\n",
      "    accuracy                           1.00    555719\n",
      "   macro avg       0.80      0.82      0.81    555719\n",
      "weighted avg       1.00      1.00      1.00    555719\n",
      "\n"
     ]
    }
   ],
   "source": [
    "matrix = classification_report(y_test,y_pred,labels=[1,0])\n",
    "print('Classification report : \\n',matrix)"
   ]
  },
  {
   "cell_type": "code",
   "execution_count": 20,
   "id": "7c8f9e3c",
   "metadata": {
    "execution": {
     "iopub.execute_input": "2022-05-20T08:12:48.476876Z",
     "iopub.status.busy": "2022-05-20T08:12:48.476598Z",
     "iopub.status.idle": "2022-05-20T08:12:48.692476Z",
     "shell.execute_reply": "2022-05-20T08:12:48.691186Z"
    },
    "papermill": {
     "duration": 0.261661,
     "end_time": "2022-05-20T08:12:48.694895",
     "exception": false,
     "start_time": "2022-05-20T08:12:48.433234",
     "status": "completed"
    },
    "tags": []
   },
   "outputs": [
    {
     "name": "stdout",
     "output_type": "stream",
     "text": [
      "Precision: 0.607\n"
     ]
    }
   ],
   "source": [
    "print('Precision: %.3f' % precision_score(y_test, y_pred))"
   ]
  },
  {
   "cell_type": "code",
   "execution_count": 21,
   "id": "75dcfb7a",
   "metadata": {
    "execution": {
     "iopub.execute_input": "2022-05-20T08:12:48.782403Z",
     "iopub.status.busy": "2022-05-20T08:12:48.782091Z",
     "iopub.status.idle": "2022-05-20T08:12:48.998188Z",
     "shell.execute_reply": "2022-05-20T08:12:48.997168Z"
    },
    "papermill": {
     "duration": 0.263002,
     "end_time": "2022-05-20T08:12:49.000340",
     "exception": false,
     "start_time": "2022-05-20T08:12:48.737338",
     "status": "completed"
    },
    "tags": []
   },
   "outputs": [
    {
     "name": "stdout",
     "output_type": "stream",
     "text": [
      "F1 score:  99.6 %\n"
     ]
    }
   ],
   "source": [
    "print(\"F1 score: \", round(f1_score(y_test, y_pred, average='weighted')*100,2),\"%\")"
   ]
  },
  {
   "cell_type": "markdown",
   "id": "161436ad",
   "metadata": {},
   "source": [
    "## RandomForestClassifier"
   ]
  },
  {
   "cell_type": "code",
   "execution_count": 22,
   "id": "c9e62ce8",
   "metadata": {},
   "outputs": [],
   "source": [
    "from sklearn.ensemble import RandomForestClassifier"
   ]
  },
  {
   "cell_type": "code",
   "execution_count": 23,
   "id": "e717449d",
   "metadata": {},
   "outputs": [],
   "source": [
    "rfc = RandomForestClassifier()"
   ]
  },
  {
   "cell_type": "code",
   "execution_count": 24,
   "id": "df1a4435",
   "metadata": {},
   "outputs": [
    {
     "data": {
      "text/plain": [
       "RandomForestClassifier()"
      ]
     },
     "execution_count": 24,
     "metadata": {},
     "output_type": "execute_result"
    }
   ],
   "source": [
    "rfc.fit(X_train,y_train)"
   ]
  },
  {
   "cell_type": "code",
   "execution_count": 37,
   "id": "9b37d0a0",
   "metadata": {},
   "outputs": [
    {
     "name": "stdout",
     "output_type": "stream",
     "text": [
      "Score the X-train with Y-train is :  0.9999984575934602\n",
      "Score the X-test  with Y-test  is :  0.9975401236956087\n",
      "Accuracy score  0.9975401236956087\n",
      "F1 score:  99.74 %\n"
     ]
    }
   ],
   "source": [
    "print(\"Score the X-train with Y-train is : \", rfc.score(X_train,y_train))\n",
    "print(\"Score the X-test  with Y-test  is : \", rfc.score(X_test,y_test))\n",
    "\n",
    "y_pred=rfc.predict(X_test)\n",
    "\n",
    "print(\"Accuracy score \" , accuracy_score(y_test,y_pred))\n",
    "print(\"F1 score: \", round(f1_score(y_test, y_pred, average='weighted')*100,2),\"%\")\n"
   ]
  },
  {
   "cell_type": "code",
   "execution_count": 38,
   "id": "3dd09a58",
   "metadata": {},
   "outputs": [
    {
     "name": "stdout",
     "output_type": "stream",
     "text": [
      "Classification report : \n",
      "               precision    recall  f1-score   support\n",
      "\n",
      "           1       0.84      0.66      0.74      2938\n",
      "           0       1.00      1.00      1.00    552781\n",
      "\n",
      "    accuracy                           1.00    555719\n",
      "   macro avg       0.92      0.83      0.87    555719\n",
      "weighted avg       1.00      1.00      1.00    555719\n",
      "\n"
     ]
    }
   ],
   "source": [
    "matrix = classification_report(y_test,y_pred,labels=[1,0])\n",
    "print('Classification report : \\n',matrix)"
   ]
  },
  {
   "cell_type": "code",
   "execution_count": 39,
   "id": "a1e6f196",
   "metadata": {},
   "outputs": [
    {
     "name": "stdout",
     "output_type": "stream",
     "text": [
      "Precision: 0.843\n"
     ]
    }
   ],
   "source": [
    "print('Precision: %.3f' % precision_score(y_test, y_pred))"
   ]
  },
  {
   "cell_type": "code",
   "execution_count": 40,
   "id": "c2e00be2",
   "metadata": {},
   "outputs": [
    {
     "name": "stdout",
     "output_type": "stream",
     "text": [
      "F1 score:  99.74 %\n"
     ]
    }
   ],
   "source": [
    "print(\"F1 score: \", round(f1_score(y_test, y_pred, average='weighted')*100,2),\"%\")"
   ]
  },
  {
   "cell_type": "markdown",
   "id": "47ef0789",
   "metadata": {},
   "source": [
    "## Support Vector Machine (SVM)"
   ]
  },
  {
   "cell_type": "code",
   "execution_count": 41,
   "id": "bae239f3",
   "metadata": {},
   "outputs": [],
   "source": [
    "from sklearn import svm"
   ]
  },
  {
   "cell_type": "code",
   "execution_count": 42,
   "id": "68d5efdf",
   "metadata": {},
   "outputs": [],
   "source": [
    "SVM = svm.SVC(kernel='linear')"
   ]
  },
  {
   "cell_type": "code",
   "execution_count": 43,
   "id": "67e7cdea",
   "metadata": {},
   "outputs": [
    {
     "data": {
      "text/plain": [
       "SVC(kernel='linear')"
      ]
     },
     "execution_count": 43,
     "metadata": {},
     "output_type": "execute_result"
    }
   ],
   "source": [
    "SVM.fit(X_train,y_train)"
   ]
  },
  {
   "cell_type": "code",
   "execution_count": 44,
   "id": "f0a7cbb3",
   "metadata": {},
   "outputs": [
    {
     "name": "stdout",
     "output_type": "stream",
     "text": [
      "Score the X-train with Y-train is :  0.9948229124491488\n",
      "Score the X-test  with Y-test  is :  0.9947131553896843\n",
      "Accuracy score  0.9947131553896843\n",
      "F1 score:  99.21 %\n"
     ]
    }
   ],
   "source": [
    "print(\"Score the X-train with Y-train is : \", SVM.score(X_train,y_train))\n",
    "print(\"Score the X-test  with Y-test  is : \", SVM.score(X_test,y_test))\n",
    "\n",
    "y_pred=SVM.predict(X_test)\n",
    "\n",
    "print(\"Accuracy score \" , accuracy_score(y_test,y_pred))\n",
    "print(\"F1 score: \", round(f1_score(y_test, y_pred, average='weighted')*100,2),\"%\")\n"
   ]
  },
  {
   "cell_type": "code",
   "execution_count": 57,
   "id": "0960efd8",
   "metadata": {},
   "outputs": [],
   "source": [
    "import warnings\n",
    "warnings.filterwarnings(\"ignore\")"
   ]
  },
  {
   "cell_type": "code",
   "execution_count": 58,
   "id": "ebdf6150",
   "metadata": {},
   "outputs": [
    {
     "name": "stdout",
     "output_type": "stream",
     "text": [
      "Classification report : \n",
      "               precision    recall  f1-score   support\n",
      "\n",
      "           1       0.00      0.00      0.00      2938\n",
      "           0       0.99      1.00      1.00    552781\n",
      "\n",
      "    accuracy                           0.99    555719\n",
      "   macro avg       0.50      0.50      0.50    555719\n",
      "weighted avg       0.99      0.99      0.99    555719\n",
      "\n"
     ]
    }
   ],
   "source": [
    "matrix = classification_report(y_test,y_pred,labels=[1,0])\n",
    "print('Classification report : \\n',matrix)"
   ]
  },
  {
   "cell_type": "code",
   "execution_count": 59,
   "id": "561e1fe2",
   "metadata": {},
   "outputs": [
    {
     "name": "stdout",
     "output_type": "stream",
     "text": [
      "Precision: 0.000\n"
     ]
    }
   ],
   "source": [
    "print('Precision: %.3f' % precision_score(y_test, y_pred))"
   ]
  },
  {
   "cell_type": "code",
   "execution_count": 60,
   "id": "ea27d216",
   "metadata": {},
   "outputs": [
    {
     "name": "stdout",
     "output_type": "stream",
     "text": [
      "F1 score:  99.21 %\n"
     ]
    }
   ],
   "source": [
    "print(\"F1 score: \", round(f1_score(y_test, y_pred, average='weighted')*100,2),\"%\")"
   ]
  },
  {
   "cell_type": "markdown",
   "id": "a2cb557a",
   "metadata": {},
   "source": [
    "## KNeighborsClassifier"
   ]
  },
  {
   "cell_type": "code",
   "execution_count": 61,
   "id": "b83fd1b9",
   "metadata": {},
   "outputs": [],
   "source": [
    "from sklearn.neighbors import KNeighborsClassifier"
   ]
  },
  {
   "cell_type": "code",
   "execution_count": 62,
   "id": "998bf0f4",
   "metadata": {},
   "outputs": [],
   "source": [
    "knn = KNeighborsClassifier(n_neighbors=3)"
   ]
  },
  {
   "cell_type": "code",
   "execution_count": 63,
   "id": "bfb15934",
   "metadata": {},
   "outputs": [
    {
     "data": {
      "text/plain": [
       "KNeighborsClassifier(n_neighbors=3)"
      ]
     },
     "execution_count": 63,
     "metadata": {},
     "output_type": "execute_result"
    }
   ],
   "source": [
    "knn.fit(X_train,y_train)"
   ]
  },
  {
   "cell_type": "code",
   "execution_count": null,
   "id": "51cef3c2",
   "metadata": {},
   "outputs": [],
   "source": [
    "print(\"Score the X-train with Y-train is : \", knn.score(X_train,y_train))\n",
    "print(\"Score the X-test  with Y-test  is : \", knn.score(X_test,y_test))\n",
    "\n",
    "y_pred=knn.predict(X_test)\n",
    "\n",
    "print(\"Accuracy score \" , accuracy_score(y_test,y_pred))\n",
    "print(\"F1 score: \", round(f1_score(y_test, y_pred, average='weighted')*100,2),\"%\")"
   ]
  },
  {
   "cell_type": "code",
   "execution_count": null,
   "id": "472c5c07",
   "metadata": {},
   "outputs": [],
   "source": [
    "matrix = classification_report(y_test,y_pred,labels=[1,0])\n",
    "print('Classification report : \\n',matrix)"
   ]
  },
  {
   "cell_type": "code",
   "execution_count": null,
   "id": "5c968ca3",
   "metadata": {},
   "outputs": [],
   "source": [
    "print('Precision: %.3f' % precision_score(y_test, y_pred))"
   ]
  },
  {
   "cell_type": "code",
   "execution_count": null,
   "id": "dcdde1a4",
   "metadata": {},
   "outputs": [],
   "source": [
    "print(\"F1 score: \", round(f1_score(y_test, y_pred, average='weighted')*100,2),\"%\")"
   ]
  }
 ],
 "metadata": {
  "kernelspec": {
   "display_name": "Python 3 (ipykernel)",
   "language": "python",
   "name": "python3"
  },
  "language_info": {
   "codemirror_mode": {
    "name": "ipython",
    "version": 3
   },
   "file_extension": ".py",
   "mimetype": "text/x-python",
   "name": "python",
   "nbconvert_exporter": "python",
   "pygments_lexer": "ipython3",
   "version": "3.9.12"
  },
  "papermill": {
   "default_parameters": {},
   "duration": 48.642957,
   "end_time": "2022-05-20T08:12:50.069656",
   "environment_variables": {},
   "exception": null,
   "input_path": "__notebook__.ipynb",
   "output_path": "__notebook__.ipynb",
   "parameters": {},
   "start_time": "2022-05-20T08:12:01.426699",
   "version": "2.3.4"
  }
 },
 "nbformat": 4,
 "nbformat_minor": 5
}
